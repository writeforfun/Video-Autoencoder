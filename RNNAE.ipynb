{
 "cells": [
  {
   "cell_type": "code",
   "execution_count": null,
   "metadata": {},
   "outputs": [],
   "source": [
    "from numpy import load\n",
    "import matplotlib.pyplot as plt\n",
    "import numpy as np\n",
    "import pandas as pd  \n",
    "import os\n",
    "\n",
    "import keras\n",
    "from keras import applications\n",
    "from keras.preprocessing.image import ImageDataGenerator\n",
    "from keras import optimizers\n",
    "from keras.models import Sequential, Model \n",
    "from keras.layers import *\n",
    "from keras.callbacks import ModelCheckpoint, LearningRateScheduler, TensorBoard, EarlyStopping\n",
    "from keras.utils import plot_model\n",
    "\n",
    "from sklearn.decomposition import PCA\n",
    "from sklearn.cluster import KMeans\n",
    "from sklearn import metrics"
   ]
  },
  {
   "cell_type": "code",
   "execution_count": null,
   "metadata": {},
   "outputs": [],
   "source": [
    "X = load('./data/input_Female_gray20.npy')\n",
    "Y = load('./data/output_Female_gray20.npy')"
   ]
  },
  {
   "cell_type": "code",
   "execution_count": null,
   "metadata": {},
   "outputs": [],
   "source": [
    "#get 3 classes\n",
    "YawDD = os.listdir(\"./Female\")\n",
    "classes = []\n",
    "for item in YawDD:\n",
    "    if item == \".DS_Store\" or item == \".ipynb_checkpoints\":\n",
    "        pass\n",
    "    else:\n",
    "        classes.append(item)"
   ]
  },
  {
   "cell_type": "code",
   "execution_count": null,
   "metadata": {},
   "outputs": [],
   "source": [
    "seq_len = 20\n",
    "#convert dimension of X to 1D \n",
    "X = X.reshape(X.shape[0] ,seq_len, -1)\n",
    "features_len = X.shape[2] #shape of X: (number of videos, 10, 4096)"
   ]
  },
  {
   "cell_type": "code",
   "execution_count": null,
   "metadata": {},
   "outputs": [],
   "source": [
    "X.shape"
   ]
  },
  {
   "cell_type": "code",
   "execution_count": null,
   "metadata": {},
   "outputs": [],
   "source": [
    "#define encoder\n",
    "inputs = Input(shape=(seq_len,features_len))\n",
    "\n",
    "encoded_X = SimpleRNN(200, activation='relu')(inputs)\n",
    "\n",
    "#define reconstruct decoder\n",
    "decoded_X = RepeatVector(seq_len)(encoded_X)\n",
    "decoded_X = SimpleRNN(200, activation='relu', return_sequences=True)(decoded_X)\n",
    "decoded_X = TimeDistributed(Dense(features_len))(decoded_X)\n",
    "\n",
    "model = Model(inputs=inputs, outputs=decoded_X)\n",
    "model.compile(optimizer='adam', loss='mae')\n",
    "\n",
    "#get encoder\n",
    "Encoder = Model(inputs,encoded_X) #input, output"
   ]
  },
  {
   "cell_type": "code",
   "execution_count": null,
   "metadata": {},
   "outputs": [],
   "source": [
    "model.summary()"
   ]
  },
  {
   "cell_type": "code",
   "execution_count": null,
   "metadata": {},
   "outputs": [],
   "source": [
    "history = model.fit(X, X, epochs=200, batch_size=8, verbose=1)"
   ]
  },
  {
   "cell_type": "code",
   "execution_count": null,
   "metadata": {},
   "outputs": [],
   "source": [
    "plt.plot(history.history['loss'])\n",
    "plt.title('model loss')\n",
    "plt.ylabel('loss')\n",
    "plt.xlabel('epoch')\n",
    "plt.legend(['Loss'], loc='best')\n",
    "plt.show()"
   ]
  },
  {
   "cell_type": "code",
   "execution_count": null,
   "metadata": {},
   "outputs": [],
   "source": [
    "x_test_encoded = Encoder.predict(X)\n",
    "                   \n",
    "pca = PCA(n_components=2)  # 把維度降至2維\n",
    "# 進行PCA降維\n",
    "X_pca = pca.fit_transform(x_test_encoded)\n",
    "# 生成降維後的dataframe\n",
    "X_pca_frame = pd.DataFrame(X_pca, columns=['pca_1', 'pca_2'])  \n",
    "print('PCA1 and PCA2:', pca.explained_variance_ratio_)"
   ]
  },
  {
   "cell_type": "code",
   "execution_count": null,
   "metadata": {},
   "outputs": [],
   "source": [
    "#one-hot to integer\n",
    "Y = np.array([np.where(r==1)[0][0] for r in Y])"
   ]
  },
  {
   "cell_type": "code",
   "execution_count": null,
   "metadata": {},
   "outputs": [],
   "source": [
    "plt.figure()\n",
    "colors = ['navy', 'turquoise', 'darkorange']\n",
    "lw = 2\n",
    "for color, i, target_name in zip(colors, [0, 1, 2], np.array(classes)):\n",
    "    plt.scatter(X_pca[Y == i, 0], X_pca[Y == i, 1], color=color, alpha=.8, lw=lw,\n",
    "                label=target_name)\n",
    "\n",
    "plt.legend(loc='best', shadow=False, scatterpoints=1)\n",
    "plt.title('Ground Truth')\n",
    "plt.show()"
   ]
  },
  {
   "cell_type": "code",
   "execution_count": null,
   "metadata": {},
   "outputs": [],
   "source": [
    "#plot K-Means\n",
    "d = {}\n",
    "fig_reduced_data = plt.figure(figsize=(12, 12)) #畫圖之前先設置figure，此函数=設置一塊自定義大小的畫布讓之後的圖形印在這塊畫布上\n",
    "for k in range(3, 4):\n",
    "    est = KMeans(n_clusters=k, random_state=111)\n",
    "    y_pred = est.fit_predict(X_pca) #作用到降維後的數據上\n",
    "\n",
    "    # X_pca_frame：表示要cluster的樣本數據，一般如（samples，features）的格式。y_pred：即cluster後得到的label，如（samples，）的格式\n",
    "    calinski_harabaz_score = metrics.calinski_harabasz_score(X_pca_frame, y_pred)  \n",
    "    d.update({k: calinski_harabaz_score})\n",
    "    print('calinski_harabaz_score with k={0} is {1}'.format(k, calinski_harabaz_score))  # CH score的数值越大越好\n",
    "    #生成2D圖，每個樣本點的坐標分别是兩個主成分的值\n",
    "    ax = plt.subplot(4, 3, k-1) #將設置的畫布大小分成幾個部分，表示4(row)x3(col),k-4表示選擇圖形輸出的區域在第k-1塊，參數必須在“rowXcol”範圍\n",
    "    ax.scatter(X_pca_frame.pca_1, X_pca_frame.pca_2, c=y_pred)  # pca_1、pca_2為輸入數據，c表示顏色序列\n",
    "\n",
    "    plt.title('K-means of Female Drivers from YawDD Dataset')\n",
    "    plt.tight_layout()\n",
    "    plt.show()"
   ]
  },
  {
   "cell_type": "code",
   "execution_count": null,
   "metadata": {},
   "outputs": [],
   "source": [
    "X_pca_frame['class'] = y_pred\n",
    "X_pca_frame = X_pca_frame.sort_values(by='class')"
   ]
  },
  {
   "cell_type": "code",
   "execution_count": null,
   "metadata": {},
   "outputs": [],
   "source": [
    "X_pca_frame.value_counts('class')"
   ]
  },
  {
   "cell_type": "code",
   "execution_count": null,
   "metadata": {},
   "outputs": [],
   "source": [
    "#compare original frames to reconstructed frames\n",
    "decoded_imgs = model.predict(X)\n",
    "decoded_imgs_int = decoded_imgs.astype(np.int32)#plt沒辦法畫浮點數\n",
    "n = 5  #how many digits we will display\n",
    "\n",
    "plt.figure(figsize=(20, 4))\n",
    "for x in X_pca_frame.index:\n",
    "    if X_pca_frame['class'][x] == 0:\n",
    "        for i in range(n):\n",
    "            # display original\n",
    "            ax = plt.subplot(2, n, i + 1)\n",
    "            plt.imshow(X[x][i].reshape(64,64), cmap=plt.get_cmap('gray'))\n",
    "            ax.get_xaxis().set_visible(False)\n",
    "            ax.get_yaxis().set_visible(False)\n",
    "\n",
    "            # display reconstruction\n",
    "#             ax = plt.subplot(2, n, i + 1 + n)\n",
    "#             plt.imshow(decoded_imgs_int[0][i].reshape(64,64), cmap=plt.get_cmap('gray'))\n",
    "#             ax.get_xaxis().set_visible(False)\n",
    "#             ax.get_yaxis().set_visible(False)\n",
    "\n",
    "        plt.show()"
   ]
  },
  {
   "cell_type": "code",
   "execution_count": null,
   "metadata": {},
   "outputs": [],
   "source": [
    "#compare original frames to reconstructed frames\n",
    "decoded_imgs = model.predict(X)\n",
    "decoded_imgs_int = decoded_imgs.astype(np.int32)#plt沒辦法畫浮點數\n",
    "n = 5  #how many digits we will display\n",
    "\n",
    "plt.figure(figsize=(20, 4))\n",
    "\n",
    "for i in range(n):\n",
    "    # display original\n",
    "    ax = plt.subplot(2, n, i + 1)\n",
    "    plt.imshow(X[20][i].reshape(64,64), cmap=plt.get_cmap('gray'))\n",
    "    ax.get_xaxis().set_visible(False)\n",
    "    ax.get_yaxis().set_visible(False)\n",
    "\n",
    "    # display reconstruction\n",
    "    ax = plt.subplot(2, n, i + 1 + n)\n",
    "    plt.imshow(decoded_imgs_int[20][i].reshape(64,64), cmap=plt.get_cmap('gray'))\n",
    "    ax.get_xaxis().set_visible(False)\n",
    "    ax.get_yaxis().set_visible(False)\n",
    "    \n",
    "plt.show()"
   ]
  }
 ],
 "metadata": {
  "kernelspec": {
   "display_name": "Python 3",
   "language": "python",
   "name": "python3"
  },
  "language_info": {
   "codemirror_mode": {
    "name": "ipython",
    "version": 3
   },
   "file_extension": ".py",
   "mimetype": "text/x-python",
   "name": "python",
   "nbconvert_exporter": "python",
   "pygments_lexer": "ipython3",
   "version": "3.7.4"
  }
 },
 "nbformat": 4,
 "nbformat_minor": 4
}