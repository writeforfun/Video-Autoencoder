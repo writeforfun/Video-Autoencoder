{
 "cells": [
  {
   "cell_type": "code",
   "execution_count": null,
   "metadata": {},
   "outputs": [],
   "source": [
    "import os\n",
    "import numpy as np\n",
    "import dlib \n",
    "import cv2\n",
    "from numpy import save\n",
    "from PIL import Image"
   ]
  },
  {
   "cell_type": "code",
   "execution_count": null,
   "metadata": {},
   "outputs": [],
   "source": [
    "#5 frames\n",
    "data_dir = \"./Female\"\n",
    "img_height , img_width = 64, 64\n",
    "seq_len = 5\n",
    " \n",
    "YawDD = os.listdir(\"./Female\")\n",
    "classes = []\n",
    "for item in YawDD:\n",
    "    if item == \".DS_Store\" or item == \".ipynb_checkpoints\":\n",
    "        pass\n",
    "    else:\n",
    "        classes.append(item)\n",
    "classes = classes[0:] \n",
    "classes"
   ]
  },
  {
   "cell_type": "code",
   "execution_count": null,
   "metadata": {},
   "outputs": [],
   "source": [
    "def detect_faces(image):\n",
    "\n",
    "    face_detector = dlib.get_frontal_face_detector()\n",
    "\n",
    "    # Run detector and get bounding boxes of the faces on image.\n",
    "    detected_faces = face_detector(image, 1)\n",
    "    face_frames = [(x.left(), x.top(),\n",
    "                    x.right(), x.bottom()) for x in detected_faces]\n",
    "\n",
    "    return face_frames"
   ]
  },
  {
   "cell_type": "code",
   "execution_count": null,
   "metadata": {},
   "outputs": [],
   "source": [
    "def frames_extraction_gray(video_path):\n",
    "    frames_list = []\n",
    "     \n",
    "    vidObj = cv2.VideoCapture(video_path)\n",
    "    count = 1\n",
    " \n",
    "    while count <= seq_len: \n",
    "         \n",
    "        success, image = vidObj.read() \n",
    "        if success:\n",
    "            img_gray = cv2.cvtColor(image, cv2.COLOR_BGR2GRAY)\n",
    "            detected_faces = detect_faces(img_gray)\n",
    "            \n",
    "            for face_rect in detected_faces:\n",
    "                face = Image.fromarray(img_gray).crop(face_rect)\n",
    "                face = np.array(face).astype(np.uint8)\n",
    "                image = cv2.resize(face, (img_height, img_width), interpolation=cv2.INTER_LINEAR)\n",
    "\n",
    "                frames_list.append(image)\n",
    "                count += 1\n",
    "        else:\n",
    "            print(\"Defected frame\")\n",
    "            break\n",
    "\n",
    "    return frames_list"
   ]
  },
  {
   "cell_type": "code",
   "execution_count": null,
   "metadata": {},
   "outputs": [],
   "source": [
    "def create_data_gray(input_dir):\n",
    "    X = []\n",
    "    Y = []\n",
    "          \n",
    "    for c in classes:\n",
    "        \n",
    "        files_list = os.listdir(os.path.join(input_dir, c))\n",
    "        for f in files_list:\n",
    "            frames = frames_extraction_gray(os.path.join(os.path.join(input_dir, c), f))\n",
    "            if len(frames) == seq_len:\n",
    "                y = [0]*len(classes)\n",
    "                y[classes.index(c)] = 1\n",
    "                X.append(frames)\n",
    "                Y.append(y)\n",
    "     \n",
    "    X = np.asarray(X)\n",
    "    Y = np.asarray(Y)\n",
    "    return X, Y"
   ]
  },
  {
   "cell_type": "code",
   "execution_count": null,
   "metadata": {},
   "outputs": [],
   "source": [
    "X_gray, Y_gray = create_data_gray(data_dir)"
   ]
  },
  {
   "cell_type": "code",
   "execution_count": null,
   "metadata": {},
   "outputs": [],
   "source": [
    "save('input_Female_gray5.npy', X_gray)\n",
    "save('output_Female_gray5.npy', Y_gray)"
   ]
  }
 ],
 "metadata": {
  "kernelspec": {
   "display_name": "Python 3",
   "language": "python",
   "name": "python3"
  },
  "language_info": {
   "codemirror_mode": {
    "name": "ipython",
    "version": 3
   },
   "file_extension": ".py",
   "mimetype": "text/x-python",
   "name": "python",
   "nbconvert_exporter": "python",
   "pygments_lexer": "ipython3",
   "version": "3.7.4"
  }
 },
 "nbformat": 4,
 "nbformat_minor": 4
}